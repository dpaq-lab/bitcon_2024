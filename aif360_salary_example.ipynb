{
 "cells": [
  {
   "cell_type": "code",
   "execution_count": null,
   "metadata": {},
   "outputs": [],
   "source": [
    "!pip install 'aif360[all]'"
   ]
  },
  {
   "cell_type": "markdown",
   "metadata": {
    "id": "1UvQDlBaI8aV"
   },
   "source": [
    "# AIF360 Metrics in Machine Learning\n",
    "\n",
    "This notebook demonstrates how to use the AI Fairness 360 (AIF360) toolkit to assess and mitigate bias in machine learning models. We'll use the Adult dataset and focus on gender bias."
   ]
  },
  {
   "cell_type": "markdown",
   "metadata": {
    "id": "Fcz3YIOAKH-q"
   },
   "source": [
    "## Let's collect the adult dataset"
   ]
  },
  {
   "cell_type": "code",
   "execution_count": 2,
   "metadata": {
    "id": "3lv7ttmQ6eFC"
   },
   "outputs": [],
   "source": [
    "!mkdir -p /usr/local/lib/python3.10/dist-packages/aif360/data/raw/adult"
   ]
  },
  {
   "cell_type": "code",
   "execution_count": null,
   "metadata": {},
   "outputs": [],
   "source": [
    "!wget https://archive.ics.uci.edu/ml/machine-learning-databases/adult/adult.data -O /usr/local/lib/python3.10/dist-packages/aif360/data/raw/adult/adult.data\n",
    "!wget https://archive.ics.uci.edu/ml/machine-learning-databases/adult/adult.test -O /usr/local/lib/python3.10/dist-packages/aif360/data/raw/adult/adult.test\n",
    "!wget https://archive.ics.uci.edu/ml/machine-learning-databases/adult/adult.names -O /usr/local/lib/python3.10/dist-packages/aif360/data/raw/adult/adult.names"
   ]
  },
  {
   "cell_type": "markdown",
   "metadata": {},
   "source": [
    "## Import packages"
   ]
  },
  {
   "cell_type": "code",
   "execution_count": 16,
   "metadata": {
    "id": "pqFtb3J11-gy"
   },
   "outputs": [],
   "source": [
    "from aif360.datasets import AdultDataset\n",
    "from aif360.metrics import BinaryLabelDatasetMetric\n",
    "from aif360.algorithms.preprocessing import Reweighing\n",
    "from aif360.algorithms.inprocessing import PrejudiceRemover\n",
    "from sklearn.linear_model import LogisticRegression\n",
    "from sklearn.preprocessing import StandardScaler\n",
    "from sklearn.metrics import accuracy_score\n",
    "import numpy as np"
   ]
  },
  {
   "cell_type": "code",
   "execution_count": 5,
   "metadata": {
    "colab": {
     "base_uri": "https://localhost:8080/"
    },
    "id": "SN9_4IJk3reZ",
    "outputId": "f65f0f49-e3b5-4c34-91e3-b2c552990617"
   },
   "outputs": [
    {
     "name": "stderr",
     "output_type": "stream",
     "text": [
      "WARNING:root:Missing Data: 3620 rows removed from AdultDataset.\n"
     ]
    }
   ],
   "source": [
    "# Load the dataset\n",
    "dataset = AdultDataset()"
   ]
  },
  {
   "cell_type": "markdown",
   "metadata": {
    "id": "4f3qzN33F_yn"
   },
   "source": [
    "Can you create markdown cells for this notebook. Go into more detail to explain the fairness metrics, the use of Reweighing (what it is and what it does), and explain the fairness metrics outputs and what we can infer from the metrics before reweighing and after."
   ]
  },
  {
   "cell_type": "code",
   "execution_count": 6,
   "metadata": {
    "colab": {
     "base_uri": "https://localhost:8080/",
     "height": 239
    },
    "id": "FcAlkSAE3rn8",
    "outputId": "ae8dae96-ec76-412f-b9d4-691982e6b8c0"
   },
   "outputs": [
    {
     "data": {
      "text/html": [
       "<div style=\"max-width:800px; border: 1px solid var(--colab-border-color);\"><style>\n",
       "      pre.function-repr-contents {\n",
       "        overflow-x: auto;\n",
       "        padding: 8px 12px;\n",
       "        max-height: 500px;\n",
       "      }\n",
       "\n",
       "      pre.function-repr-contents.function-repr-contents-collapsed {\n",
       "        cursor: pointer;\n",
       "        max-height: 100px;\n",
       "      }\n",
       "    </style>\n",
       "    <pre style=\"white-space: initial; background:\n",
       "         var(--colab-secondary-surface-color); padding: 8px 12px;\n",
       "         border-bottom: 1px solid var(--colab-border-color);\"><b>aif360.datasets.adult_dataset.AdultDataset</b><br/>def __init__(label_name=&#x27;income-per-year&#x27;, favorable_classes=[&#x27;&gt;50K&#x27;, &#x27;&gt;50K.&#x27;], protected_attribute_names=[&#x27;race&#x27;, &#x27;sex&#x27;], privileged_classes=[[&#x27;White&#x27;], [&#x27;Male&#x27;]], instance_weights_name=None, categorical_features=[&#x27;workclass&#x27;, &#x27;education&#x27;, &#x27;marital-status&#x27;, &#x27;occupation&#x27;, &#x27;relationship&#x27;, &#x27;native-country&#x27;], features_to_keep=[], features_to_drop=[&#x27;fnlwgt&#x27;], na_values=[&#x27;?&#x27;], custom_preprocessing=None, metadata=default_mappings)</pre><pre class=\"function-repr-contents function-repr-contents-collapsed\" style=\"\"><a class=\"filepath\" style=\"display:none\" href=\"#\">/usr/local/lib/python3.10/dist-packages/aif360/datasets/adult_dataset.py</a>Adult Census Income Dataset.\n",
       "\n",
       "See :file:`aif360/data/raw/adult/README.md`.</pre>\n",
       "      <script>\n",
       "      if (google.colab.kernel.accessAllowed && google.colab.files && google.colab.files.view) {\n",
       "        for (const element of document.querySelectorAll('.filepath')) {\n",
       "          element.style.display = 'block'\n",
       "          element.onclick = (event) => {\n",
       "            event.preventDefault();\n",
       "            event.stopPropagation();\n",
       "            google.colab.files.view(element.textContent, 14);\n",
       "          };\n",
       "        }\n",
       "      }\n",
       "      for (const element of document.querySelectorAll('.function-repr-contents')) {\n",
       "        element.onclick = (event) => {\n",
       "          event.preventDefault();\n",
       "          event.stopPropagation();\n",
       "          element.classList.toggle('function-repr-contents-collapsed');\n",
       "        };\n",
       "      }\n",
       "      </script>\n",
       "      </div>"
      ],
      "text/plain": [
       "aif360.datasets.adult_dataset.AdultDataset"
      ]
     },
     "execution_count": 6,
     "metadata": {},
     "output_type": "execute_result"
    }
   ],
   "source": [
    "type(dataset)"
   ]
  },
  {
   "cell_type": "code",
   "execution_count": 7,
   "metadata": {
    "id": "SaThUaGf3rrF"
   },
   "outputs": [],
   "source": [
    "df = dataset.convert_to_dataframe()[0]  # [0] because it returns a tuple (df, _)\n"
   ]
  },
  {
   "cell_type": "code",
   "execution_count": 8,
   "metadata": {
    "colab": {
     "base_uri": "https://localhost:8080/"
    },
    "id": "a-dJXw643ruM",
    "outputId": "d8bad21c-9492-482e-e6f8-86bc53f376b3"
   },
   "outputs": [
    {
     "name": "stdout",
     "output_type": "stream",
     "text": [
      "    age  education-num  race  sex  capital-gain  capital-loss  hours-per-week  \\\n",
      "0  25.0            7.0   0.0  1.0           0.0           0.0            40.0   \n",
      "1  38.0            9.0   1.0  1.0           0.0           0.0            50.0   \n",
      "2  28.0           12.0   1.0  1.0           0.0           0.0            40.0   \n",
      "3  44.0           10.0   0.0  1.0        7688.0           0.0            40.0   \n",
      "5  34.0            6.0   1.0  1.0           0.0           0.0            30.0   \n",
      "\n",
      "   workclass=Federal-gov  workclass=Local-gov  workclass=Private  ...  \\\n",
      "0                    0.0                  0.0                1.0  ...   \n",
      "1                    0.0                  0.0                1.0  ...   \n",
      "2                    0.0                  1.0                0.0  ...   \n",
      "3                    0.0                  0.0                1.0  ...   \n",
      "5                    0.0                  0.0                1.0  ...   \n",
      "\n",
      "   native-country=Puerto-Rico  native-country=Scotland  native-country=South  \\\n",
      "0                         0.0                      0.0                   0.0   \n",
      "1                         0.0                      0.0                   0.0   \n",
      "2                         0.0                      0.0                   0.0   \n",
      "3                         0.0                      0.0                   0.0   \n",
      "5                         0.0                      0.0                   0.0   \n",
      "\n",
      "   native-country=Taiwan  native-country=Thailand  \\\n",
      "0                    0.0                      0.0   \n",
      "1                    0.0                      0.0   \n",
      "2                    0.0                      0.0   \n",
      "3                    0.0                      0.0   \n",
      "5                    0.0                      0.0   \n",
      "\n",
      "   native-country=Trinadad&Tobago  native-country=United-States  \\\n",
      "0                             0.0                           1.0   \n",
      "1                             0.0                           1.0   \n",
      "2                             0.0                           1.0   \n",
      "3                             0.0                           1.0   \n",
      "5                             0.0                           1.0   \n",
      "\n",
      "   native-country=Vietnam  native-country=Yugoslavia  income-per-year  \n",
      "0                     0.0                        0.0              0.0  \n",
      "1                     0.0                        0.0              0.0  \n",
      "2                     0.0                        0.0              1.0  \n",
      "3                     0.0                        0.0              1.0  \n",
      "5                     0.0                        0.0              0.0  \n",
      "\n",
      "[5 rows x 99 columns]\n"
     ]
    }
   ],
   "source": [
    "print(df.head())\n"
   ]
  },
  {
   "cell_type": "code",
   "execution_count": 9,
   "metadata": {
    "colab": {
     "base_uri": "https://localhost:8080/"
    },
    "id": "juLRc87o8tX0",
    "outputId": "fa79a21f-7083-4c8f-96bc-f749ccf745e6"
   },
   "outputs": [
    {
     "name": "stdout",
     "output_type": "stream",
     "text": [
      "(45222, 99)\n"
     ]
    }
   ],
   "source": [
    "print(df.shape)"
   ]
  },
  {
   "cell_type": "code",
   "execution_count": 10,
   "metadata": {
    "colab": {
     "base_uri": "https://localhost:8080/",
     "height": 176
    },
    "id": "ybF0WKecdsSR",
    "outputId": "8e7493a0-dd68-410e-94fd-c395fdf386a0"
   },
   "outputs": [
    {
     "data": {
      "text/html": [
       "<div>\n",
       "<style scoped>\n",
       "    .dataframe tbody tr th:only-of-type {\n",
       "        vertical-align: middle;\n",
       "    }\n",
       "\n",
       "    .dataframe tbody tr th {\n",
       "        vertical-align: top;\n",
       "    }\n",
       "\n",
       "    .dataframe thead th {\n",
       "        text-align: right;\n",
       "    }\n",
       "</style>\n",
       "<table border=\"1\" class=\"dataframe\">\n",
       "  <thead>\n",
       "    <tr style=\"text-align: right;\">\n",
       "      <th></th>\n",
       "      <th>count</th>\n",
       "    </tr>\n",
       "    <tr>\n",
       "      <th>sex</th>\n",
       "      <th></th>\n",
       "    </tr>\n",
       "  </thead>\n",
       "  <tbody>\n",
       "    <tr>\n",
       "      <th>1.0</th>\n",
       "      <td>30527</td>\n",
       "    </tr>\n",
       "    <tr>\n",
       "      <th>0.0</th>\n",
       "      <td>14695</td>\n",
       "    </tr>\n",
       "  </tbody>\n",
       "</table>\n",
       "</div><br><label><b>dtype:</b> int64</label>"
      ],
      "text/plain": [
       "sex\n",
       "1.0    30527\n",
       "0.0    14695\n",
       "Name: count, dtype: int64"
      ]
     },
     "execution_count": 10,
     "metadata": {},
     "output_type": "execute_result"
    }
   ],
   "source": [
    "df.sex.value_counts()"
   ]
  },
  {
   "cell_type": "code",
   "execution_count": 11,
   "metadata": {
    "colab": {
     "base_uri": "https://localhost:8080/"
    },
    "id": "7BQFD3eS84wn",
    "outputId": "e0ce5d30-def3-4e3c-d360-fa7109fb247c"
   },
   "outputs": [
    {
     "name": "stdout",
     "output_type": "stream",
     "text": [
      "income-per-year\n",
      "0.0    0.752156\n",
      "1.0    0.247844\n",
      "Name: proportion, dtype: float64\n"
     ]
    }
   ],
   "source": [
    "print(df[dataset.label_names[0]].value_counts(normalize=True))"
   ]
  },
  {
   "cell_type": "code",
   "execution_count": 12,
   "metadata": {
    "colab": {
     "base_uri": "https://localhost:8080/"
    },
    "id": "knEw354--yvF",
    "outputId": "6e87488b-446f-4834-a55b-5ea4f79325bd"
   },
   "outputs": [
    {
     "name": "stdout",
     "output_type": "stream",
     "text": [
      "                age  education-num          race           sex  capital-gain  \\\n",
      "count  45222.000000   45222.000000  45222.000000  45222.000000  45222.000000   \n",
      "mean      38.547941      10.118460      0.860267      0.675048   1101.430344   \n",
      "std       13.217870       2.552881      0.346714      0.468362   7506.430084   \n",
      "min       17.000000       1.000000      0.000000      0.000000      0.000000   \n",
      "25%       28.000000       9.000000      1.000000      0.000000      0.000000   \n",
      "50%       37.000000      10.000000      1.000000      1.000000      0.000000   \n",
      "75%       47.000000      13.000000      1.000000      1.000000      0.000000   \n",
      "max       90.000000      16.000000      1.000000      1.000000  99999.000000   \n",
      "\n",
      "       capital-loss  hours-per-week  workclass=Federal-gov  \\\n",
      "count  45222.000000    45222.000000           45222.000000   \n",
      "mean      88.595418       40.938017               0.031091   \n",
      "std      404.956092       12.007508               0.173566   \n",
      "min        0.000000        1.000000               0.000000   \n",
      "25%        0.000000       40.000000               0.000000   \n",
      "50%        0.000000       40.000000               0.000000   \n",
      "75%        0.000000       45.000000               0.000000   \n",
      "max     4356.000000       99.000000               1.000000   \n",
      "\n",
      "       workclass=Local-gov  workclass=Private  ...  \\\n",
      "count         45222.000000       45222.000000  ...   \n",
      "mean              0.068551           0.736522  ...   \n",
      "std               0.252691           0.440524  ...   \n",
      "min               0.000000           0.000000  ...   \n",
      "25%               0.000000           0.000000  ...   \n",
      "50%               0.000000           1.000000  ...   \n",
      "75%               0.000000           1.000000  ...   \n",
      "max               1.000000           1.000000  ...   \n",
      "\n",
      "       native-country=Puerto-Rico  native-country=Scotland  \\\n",
      "count                45222.000000             45222.000000   \n",
      "mean                     0.003870                 0.000442   \n",
      "std                      0.062088                 0.021026   \n",
      "min                      0.000000                 0.000000   \n",
      "25%                      0.000000                 0.000000   \n",
      "50%                      0.000000                 0.000000   \n",
      "75%                      0.000000                 0.000000   \n",
      "max                      1.000000                 1.000000   \n",
      "\n",
      "       native-country=South  native-country=Taiwan  native-country=Thailand  \\\n",
      "count          45222.000000           45222.000000             45222.000000   \n",
      "mean               0.002233               0.001216                 0.000641   \n",
      "std                0.047207               0.034854                 0.025316   \n",
      "min                0.000000               0.000000                 0.000000   \n",
      "25%                0.000000               0.000000                 0.000000   \n",
      "50%                0.000000               0.000000                 0.000000   \n",
      "75%                0.000000               0.000000                 0.000000   \n",
      "max                1.000000               1.000000                 1.000000   \n",
      "\n",
      "       native-country=Trinadad&Tobago  native-country=United-States  \\\n",
      "count                    45222.000000                  45222.000000   \n",
      "mean                         0.000575                      0.913095   \n",
      "std                          0.023971                      0.281698   \n",
      "min                          0.000000                      0.000000   \n",
      "25%                          0.000000                      1.000000   \n",
      "50%                          0.000000                      1.000000   \n",
      "75%                          0.000000                      1.000000   \n",
      "max                          1.000000                      1.000000   \n",
      "\n",
      "       native-country=Vietnam  native-country=Yugoslavia  income-per-year  \n",
      "count            45222.000000               45222.000000     45222.000000  \n",
      "mean                 0.001835                   0.000509         0.247844  \n",
      "std                  0.042803                   0.022547         0.431766  \n",
      "min                  0.000000                   0.000000         0.000000  \n",
      "25%                  0.000000                   0.000000         0.000000  \n",
      "50%                  0.000000                   0.000000         0.000000  \n",
      "75%                  0.000000                   0.000000         0.000000  \n",
      "max                  1.000000                   1.000000         1.000000  \n",
      "\n",
      "[8 rows x 99 columns]\n"
     ]
    }
   ],
   "source": [
    "print(df.describe())"
   ]
  },
  {
   "cell_type": "code",
   "execution_count": 13,
   "metadata": {
    "id": "P8R0sB9i-yzu"
   },
   "outputs": [],
   "source": [
    "# Split the dataset\n",
    "train, test = dataset.split([0.7], shuffle=True, seed = 123)\n",
    "\n",
    "#{0.0: 'Female', 1.0: 'Male'}]\n",
    "# Get the privileged and unprivileged groups;\n",
    "privileged_groups = [{'sex': 1}]\n",
    "unprivileged_groups = [{'sex': 0}]\n"
   ]
  },
  {
   "cell_type": "markdown",
   "metadata": {
    "id": "xMm6oJY1K1Fs"
   },
   "source": [
    "## Assessing Original Dataset Bias\n",
    "\n",
    "We'll use two fairness metrics to assess bias in our original dataset:\n",
    "\n",
    "1. **Disparate Impact**: This metric shows the ratio of the probability of a positive outcome for the unprivileged group to the probability of a positive outcome for the privileged group. A value of 1.0 indicates perfect fairness, while values further from 1.0 indicate greater levels of bias.\n",
    "\n",
    "2. **Statistical Parity Difference**: This metric computes the difference in the probability of a positive outcome between the privileged and unprivileged groups. A value of 0.0 indicates perfect fairness, while positive values indicate bias in favor of the privileged group and negative values indicate bias in favor of the unprivileged group."
   ]
  },
  {
   "cell_type": "code",
   "execution_count": 14,
   "metadata": {
    "colab": {
     "base_uri": "https://localhost:8080/"
    },
    "id": "RgNzRJhc-y3Y",
    "outputId": "db497132-0a2d-4b04-be1d-57e5e769f027"
   },
   "outputs": [
    {
     "name": "stdout",
     "output_type": "stream",
     "text": [
      "Original training dataset bias metrics\n",
      "Disparate impact: 0.3678710816756443\n",
      "Statistical parity difference: -0.1975550563436117\n"
     ]
    }
   ],
   "source": [
    "# Metric for the original dataset\n",
    "metric_orig_train = BinaryLabelDatasetMetric(train,\n",
    "                                             unprivileged_groups=unprivileged_groups,\n",
    "                                             privileged_groups=privileged_groups)\n",
    "print(\"Original training dataset bias metrics\")\n",
    "print(\"Disparate impact: {}\".format(metric_orig_train.disparate_impact()))\n",
    "print(\"Statistical parity difference: {}\".format(metric_orig_train.statistical_parity_difference()))\n"
   ]
  },
  {
   "cell_type": "markdown",
   "metadata": {
    "id": "Ann3E2T_LgRb"
   },
   "source": [
    "### Analysis of Original Metrics\n",
    "\n",
    "- The disparate impact of 0.368 indicates significant bias. It suggests that the unprivileged group (females) is only 36.8% as likely to receive a positive outcome compared to the privileged group (males).\n",
    "- The statistical parity difference of -0.198 also indicates bias. The negative value suggests that the unprivileged group (females) has a 19.8% lower probability of receiving a positive outcome compared to the privileged group (males).\n",
    "\n",
    "These metrics show a substantial bias against females in the original dataset."
   ]
  },
  {
   "cell_type": "markdown",
   "metadata": {
    "id": "mr_aw3SNLp_1"
   },
   "source": [
    "## Applying Reweighing to Mitigate Bias\n",
    "\n",
    "Reweighing is a preprocessing technique that assigns weights to different samples in the training data to ensure fairness. It aims to equalize the representation of different groups in the dataset."
   ]
  },
  {
   "cell_type": "code",
   "execution_count": 17,
   "metadata": {
    "id": "XyqvrRie-y6y"
   },
   "outputs": [],
   "source": [
    "# Reweighing preprocessing\n",
    "np.random.seed(123)\n",
    "RW = Reweighing(unprivileged_groups=unprivileged_groups,\n",
    "                privileged_groups=privileged_groups)\n",
    "dataset_transf_train = RW.fit_transform(train)\n"
   ]
  },
  {
   "cell_type": "markdown",
   "metadata": {
    "id": "ZWpGWWI-L67L"
   },
   "source": []
  },
  {
   "cell_type": "code",
   "execution_count": 18,
   "metadata": {
    "colab": {
     "base_uri": "https://localhost:8080/"
    },
    "id": "8QyQDyeK-y-a",
    "outputId": "40a675f3-8f76-47dc-fe87-c0303c18eea6"
   },
   "outputs": [
    {
     "name": "stdout",
     "output_type": "stream",
     "text": [
      "\n",
      "Transformed training dataset bias metrics\n",
      "Disparate impact: 1.0000000000000007\n",
      "Statistical parity difference: 1.3877787807814457e-16\n"
     ]
    }
   ],
   "source": [
    "# Metric for the transformed dataset\n",
    "metric_transf_train = BinaryLabelDatasetMetric(dataset_transf_train,\n",
    "                                               unprivileged_groups=unprivileged_groups,\n",
    "                                               privileged_groups=privileged_groups)\n",
    "print(\"\\nTransformed training dataset bias metrics\")\n",
    "print(\"Disparate impact: {}\".format(metric_transf_train.disparate_impact()))\n",
    "print(\"Statistical parity difference: {}\".format(metric_transf_train.statistical_parity_difference()))\n"
   ]
  },
  {
   "cell_type": "markdown",
   "metadata": {
    "id": "XKlK686uMUr7"
   },
   "source": [
    "### Interpretation of Transformed Metrics\n",
    "\n",
    "- After applying Reweighing, we see that both the disparate impact and statistical parity difference are essentially perfect (1.0 and 0.0 respectively).\n",
    "- This indicates that the Reweighing algorithm has successfully balanced the dataset with respect to the protected attribute (gender in this case)."
   ]
  },
  {
   "cell_type": "markdown",
   "metadata": {
    "id": "H01hXl3mNGEV"
   },
   "source": [
    "## Training and Evaluating the Model\n",
    "\n",
    "Now that we have a balanced dataset, we can train a logistic regression model and evaluate its performance and fairness."
   ]
  },
  {
   "cell_type": "code",
   "execution_count": 19,
   "metadata": {
    "colab": {
     "base_uri": "https://localhost:8080/",
     "height": 74
    },
    "id": "H07_U807BImC",
    "outputId": "0cb4e74e-7c90-4599-e22e-71c544bf8cfc"
   },
   "outputs": [
    {
     "data": {
      "text/html": [
       "<style>#sk-container-id-1 {color: black;}#sk-container-id-1 pre{padding: 0;}#sk-container-id-1 div.sk-toggleable {background-color: white;}#sk-container-id-1 label.sk-toggleable__label {cursor: pointer;display: block;width: 100%;margin-bottom: 0;padding: 0.3em;box-sizing: border-box;text-align: center;}#sk-container-id-1 label.sk-toggleable__label-arrow:before {content: \"▸\";float: left;margin-right: 0.25em;color: #696969;}#sk-container-id-1 label.sk-toggleable__label-arrow:hover:before {color: black;}#sk-container-id-1 div.sk-estimator:hover label.sk-toggleable__label-arrow:before {color: black;}#sk-container-id-1 div.sk-toggleable__content {max-height: 0;max-width: 0;overflow: hidden;text-align: left;background-color: #f0f8ff;}#sk-container-id-1 div.sk-toggleable__content pre {margin: 0.2em;color: black;border-radius: 0.25em;background-color: #f0f8ff;}#sk-container-id-1 input.sk-toggleable__control:checked~div.sk-toggleable__content {max-height: 200px;max-width: 100%;overflow: auto;}#sk-container-id-1 input.sk-toggleable__control:checked~label.sk-toggleable__label-arrow:before {content: \"▾\";}#sk-container-id-1 div.sk-estimator input.sk-toggleable__control:checked~label.sk-toggleable__label {background-color: #d4ebff;}#sk-container-id-1 div.sk-label input.sk-toggleable__control:checked~label.sk-toggleable__label {background-color: #d4ebff;}#sk-container-id-1 input.sk-hidden--visually {border: 0;clip: rect(1px 1px 1px 1px);clip: rect(1px, 1px, 1px, 1px);height: 1px;margin: -1px;overflow: hidden;padding: 0;position: absolute;width: 1px;}#sk-container-id-1 div.sk-estimator {font-family: monospace;background-color: #f0f8ff;border: 1px dotted black;border-radius: 0.25em;box-sizing: border-box;margin-bottom: 0.5em;}#sk-container-id-1 div.sk-estimator:hover {background-color: #d4ebff;}#sk-container-id-1 div.sk-parallel-item::after {content: \"\";width: 100%;border-bottom: 1px solid gray;flex-grow: 1;}#sk-container-id-1 div.sk-label:hover label.sk-toggleable__label {background-color: #d4ebff;}#sk-container-id-1 div.sk-serial::before {content: \"\";position: absolute;border-left: 1px solid gray;box-sizing: border-box;top: 0;bottom: 0;left: 50%;z-index: 0;}#sk-container-id-1 div.sk-serial {display: flex;flex-direction: column;align-items: center;background-color: white;padding-right: 0.2em;padding-left: 0.2em;position: relative;}#sk-container-id-1 div.sk-item {position: relative;z-index: 1;}#sk-container-id-1 div.sk-parallel {display: flex;align-items: stretch;justify-content: center;background-color: white;position: relative;}#sk-container-id-1 div.sk-item::before, #sk-container-id-1 div.sk-parallel-item::before {content: \"\";position: absolute;border-left: 1px solid gray;box-sizing: border-box;top: 0;bottom: 0;left: 50%;z-index: -1;}#sk-container-id-1 div.sk-parallel-item {display: flex;flex-direction: column;z-index: 1;position: relative;background-color: white;}#sk-container-id-1 div.sk-parallel-item:first-child::after {align-self: flex-end;width: 50%;}#sk-container-id-1 div.sk-parallel-item:last-child::after {align-self: flex-start;width: 50%;}#sk-container-id-1 div.sk-parallel-item:only-child::after {width: 0;}#sk-container-id-1 div.sk-dashed-wrapped {border: 1px dashed gray;margin: 0 0.4em 0.5em 0.4em;box-sizing: border-box;padding-bottom: 0.4em;background-color: white;}#sk-container-id-1 div.sk-label label {font-family: monospace;font-weight: bold;display: inline-block;line-height: 1.2em;}#sk-container-id-1 div.sk-label-container {text-align: center;}#sk-container-id-1 div.sk-container {/* jupyter's `normalize.less` sets `[hidden] { display: none; }` but bootstrap.min.css set `[hidden] { display: none !important; }` so we also need the `!important` here to be able to override the default hidden behavior on the sphinx rendered scikit-learn.org. See: https://github.com/scikit-learn/scikit-learn/issues/21755 */display: inline-block !important;position: relative;}#sk-container-id-1 div.sk-text-repr-fallback {display: none;}</style><div id=\"sk-container-id-1\" class=\"sk-top-container\"><div class=\"sk-text-repr-fallback\"><pre>LogisticRegression(max_iter=1000)</pre><b>In a Jupyter environment, please rerun this cell to show the HTML representation or trust the notebook. <br />On GitHub, the HTML representation is unable to render, please try loading this page with nbviewer.org.</b></div><div class=\"sk-container\" hidden><div class=\"sk-item\"><div class=\"sk-estimator sk-toggleable\"><input class=\"sk-toggleable__control sk-hidden--visually\" id=\"sk-estimator-id-1\" type=\"checkbox\" checked><label for=\"sk-estimator-id-1\" class=\"sk-toggleable__label sk-toggleable__label-arrow\">LogisticRegression</label><div class=\"sk-toggleable__content\"><pre>LogisticRegression(max_iter=1000)</pre></div></div></div></div></div>"
      ],
      "text/plain": [
       "LogisticRegression(max_iter=1000)"
      ]
     },
     "execution_count": 19,
     "metadata": {},
     "output_type": "execute_result"
    }
   ],
   "source": [
    "# Train the model\n",
    "scale = StandardScaler()\n",
    "X_train = scale.fit_transform(dataset_transf_train.features)\n",
    "y_train = dataset_transf_train.labels.ravel()\n",
    "\n",
    "lmod = LogisticRegression(solver='lbfgs', max_iter=1000)\n",
    "lmod.fit(X_train, y_train, sample_weight=dataset_transf_train.instance_weights)"
   ]
  },
  {
   "cell_type": "code",
   "execution_count": 20,
   "metadata": {
    "id": "HuQok6AsBI1K"
   },
   "outputs": [],
   "source": [
    "# Predict on test data\n",
    "X_test = scale.transform(test.features)\n",
    "y_test = test.labels.ravel()\n",
    "y_pred = lmod.predict(X_test)"
   ]
  },
  {
   "cell_type": "code",
   "execution_count": 21,
   "metadata": {
    "colab": {
     "base_uri": "https://localhost:8080/"
    },
    "id": "LdOhW5esBI6D",
    "outputId": "8d6d2165-545d-43a7-924a-8607d6aa9b13"
   },
   "outputs": [
    {
     "name": "stdout",
     "output_type": "stream",
     "text": [
      "\n",
      "Classifier performance\n",
      "Accuracy: 0.8445492739736125\n"
     ]
    }
   ],
   "source": [
    "# Calculate accuracy\n",
    "print(\"\\nClassifier performance\")\n",
    "print(\"Accuracy: {}\".format(accuracy_score(y_test, y_pred)))"
   ]
  },
  {
   "cell_type": "code",
   "execution_count": 22,
   "metadata": {
    "colab": {
     "base_uri": "https://localhost:8080/"
    },
    "id": "bxpFzCFYBhps",
    "outputId": "325233b3-f162-4347-c5cd-09aa3599aeb5"
   },
   "outputs": [
    {
     "name": "stdout",
     "output_type": "stream",
     "text": [
      "\n",
      "Test dataset predictions bias metrics\n",
      "Disparate impact: 0.6127559583752937\n",
      "Statistical parity difference: -0.08426280997772179\n"
     ]
    }
   ],
   "source": [
    "# Calculate bias metrics on predictions\n",
    "dataset_pred = test.copy()\n",
    "dataset_pred.labels = y_pred\n",
    "\n",
    "metric_pred = BinaryLabelDatasetMetric(dataset_pred,\n",
    "                                       unprivileged_groups=unprivileged_groups,\n",
    "                                       privileged_groups=privileged_groups)\n",
    "print(\"\\nTest dataset predictions bias metrics\")\n",
    "print(\"Disparate impact: {}\".format(metric_pred.disparate_impact()))\n",
    "print(\"Statistical parity difference: {}\".format(metric_pred.statistical_parity_difference()))"
   ]
  },
  {
   "cell_type": "markdown",
   "metadata": {
    "id": "ATzpEEfoOIrB"
   },
   "source": [
    "### Analysis of Model Predictions\n",
    "\n",
    "- The model's predictions show improved fairness metrics compared to the original dataset, but there is still some bias present.\n",
    "- The disparate impact of 0.613 indicates that the unprivileged group (females) is now 61.3% as likely to receive a positive prediction compared to the privileged group (males). This is better than the original 36.8%, but still not fully fair.\n",
    "- The statistical parity difference of -0.084 suggests that females have an 8.4% lower probability of receiving a positive prediction compared to males. This is an improvement from the original 19.8% difference, but bias remains."
   ]
  },
  {
   "cell_type": "markdown",
   "metadata": {
    "id": "ER1wKFR3RUE2"
   },
   "source": [
    "## Final analysis\n",
    "\n",
    "While the Reweighing technique successfully balanced the training data, some bias persists in the model's predictions on the test set. This highlights the challenge of achieving fairness in machine learning models and suggests that additional techniques or more complex approaches might be necessary to further reduce bias in the predictions, but also keeping in mind perfect fairness will never be achieved."
   ]
  },
  {
   "cell_type": "code",
   "execution_count": null,
   "metadata": {
    "id": "VPBFMspORYfL"
   },
   "outputs": [],
   "source": []
  }
 ],
 "metadata": {
  "colab": {
   "provenance": []
  },
  "kernelspec": {
   "display_name": "Python 3 (ipykernel)",
   "language": "python",
   "name": "python3"
  },
  "language_info": {
   "codemirror_mode": {
    "name": "ipython",
    "version": 3
   },
   "file_extension": ".py",
   "mimetype": "text/x-python",
   "name": "python",
   "nbconvert_exporter": "python",
   "pygments_lexer": "ipython3",
   "version": "3.8.19"
  }
 },
 "nbformat": 4,
 "nbformat_minor": 4
}
